{
 "cells": [
  {
   "cell_type": "code",
   "execution_count": null,
   "metadata": {},
   "outputs": [],
   "source": []
  },
  {
   "cell_type": "markdown",
   "metadata": {},
   "source": [
    "## OpenSSL/BoringSSL以及在AOSP中的移植\n",
    "\n",
    "\n",
    "### 1 OpenSSL的最新版本\n",
    "\n",
    "openssl的最新版本可以在https://www.openssl.org/source/ 中查询，目前1.0.2的最新版本为 ***1.0.2s***,1.1.0的最新版本为***1.1.0k***,1.1.1的最新版本为***1.1.1c***\n",
    "\n",
    "```\n",
    "5223 \t2019-May-28 13:26:28 \topenssl-1.0.2s.tar.gz (SHA256) (PGP sign) (SHA1)\n",
    "5163 \t2019-May-28 13:26:28 \topenssl-1.1.0k.tar.gz (SHA256) (PGP sign) (SHA1)\n",
    "8656 \t2019-May-28 13:26:28 \topenssl-1.1.1c.tar.gz (SHA256) (PGP sign) (SHA1)\n",
    "1457 \t2017-May-24 18:01:01 \topenssl-fips-2.0.16.tar.gz (SHA256) (PGP sign) (SHA1)\n",
    "1437 \t2017-May-24 18:01:01 \topenssl-fips-ecp-2.0.16.tar.gz (SHA256) (PGP sign) (SHA1)\n",
    "\n",
    "```\n",
    "\n",
    "最新版本下载地址为https://www.openssl.org/source/openssl-[OPENSSL_VERSION].tar.gz, 如1.0.2s的最新版本下载地址为https://www.openssl.org/source/openssl-1.0.2s.tar.gz\n",
    "\n",
    "### 2 OpenSSL在AOSP中的移植\n",
    "\n",
    "#### 2.1 OpenSSL与AOSP\n",
    "在AndroidOS 6.0版本以前，AOSP中使用的是openssl库，具体代码位于https://android.googlesource.com/platform/external/openssl/ ，最新版本为1.0.1j，位于5.1.1r38中，可以通过查看openssl.version文件确定openssl的版本，见 https://android.googlesource.com/platform/external/openssl/+/refs/tags/android-5.1.1_r38/openssl.version\n",
    "在6.0版本以后，AOSP将openssl移除并集成了boringssl，代码分支位于https://android.googlesource.com/platform/external/boringssl/\n",
    "\n",
    "#### 2.2 关于Boringssl的官方介绍\n",
    "BoringSSL源于OpenSSL，并且会根据OpenSSL的更新进行同步更新，目前Google也就在Chrome和Android中部分使用了BoringSSL,并且不推荐开发者使用。\n",
    "\n",
    "> BoringSSL\n",
    ">BoringSSL is a fork of OpenSSL that is designed to meet Google's needs.\n",
    ">\n",
    ">Although BoringSSL is an open source project, it is not intended for general use, as OpenSSL is. We don't recommend that third parties depend upon it. Doing so is likely to be frustrating because there are no guarantees of API or ABI stability.\n",
    ">\n",
    ">Programs ship their own copies of BoringSSL when they use it and we update everything as needed when deciding to make API changes. This allows us to mostly avoid compromises in the name of compatibility. It works for us, but it may not work for you.\n",
    ">\n",
    ">BoringSSL arose because Google used OpenSSL for many years in various ways and, over time, built up a large number of patches that were maintained while tracking upstream OpenSSL. As Google's product portfolio became more complex, more copies of OpenSSL sprung up and the effort involved in maintaining all these patches in multiple places was growing steadily.\n",
    ">\n",
    ">Currently BoringSSL is the SSL library in Chrome/Chromium, Android (but it's not part of the NDK) and a number of other apps/programs.\n",
    "\n",
    "\n",
    "### 3 How to upgrade the OpenSSL Libs in AOSP\n",
    "\n",
    "\n"
   ]
  },
  {
   "cell_type": "code",
   "execution_count": null,
   "metadata": {},
   "outputs": [],
   "source": []
  }
 ],
 "metadata": {
  "kernelspec": {
   "display_name": "Python 2",
   "language": "python",
   "name": "python2"
  },
  "language_info": {
   "codemirror_mode": {
    "name": "ipython",
    "version": 2
   },
   "file_extension": ".py",
   "mimetype": "text/x-python",
   "name": "python",
   "nbconvert_exporter": "python",
   "pygments_lexer": "ipython2",
   "version": "2.7.15+"
  }
 },
 "nbformat": 4,
 "nbformat_minor": 2
}
